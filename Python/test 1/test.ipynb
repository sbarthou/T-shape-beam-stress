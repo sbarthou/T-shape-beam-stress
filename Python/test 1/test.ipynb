{
 "cells": [
  {
   "cell_type": "code",
   "execution_count": 1,
   "metadata": {},
   "outputs": [],
   "source": [
    "import pandas as pd\n",
    "\n",
    "df = pd.read_excel('data.xlsx')"
   ]
  },
  {
   "cell_type": "code",
   "execution_count": 2,
   "metadata": {},
   "outputs": [
    {
     "data": {
      "text/html": [
       "<div>\n",
       "<style scoped>\n",
       "    .dataframe tbody tr th:only-of-type {\n",
       "        vertical-align: middle;\n",
       "    }\n",
       "\n",
       "    .dataframe tbody tr th {\n",
       "        vertical-align: top;\n",
       "    }\n",
       "\n",
       "    .dataframe thead th {\n",
       "        text-align: right;\n",
       "    }\n",
       "</style>\n",
       "<table border=\"1\" class=\"dataframe\">\n",
       "  <thead>\n",
       "    <tr style=\"text-align: right;\">\n",
       "      <th></th>\n",
       "      <th>Ancho viga (mm)</th>\n",
       "      <th>Altura viga (mm)</th>\n",
       "      <th>Ancho ala (mm)</th>\n",
       "      <th>Altura ala (mm)</th>\n",
       "      <th>Ancho alma (mm)</th>\n",
       "      <th>Altura alma (mm)</th>\n",
       "      <th>Área viga (m^2)</th>\n",
       "      <th>Wpp viga (ton/m)</th>\n",
       "      <th>Sigma max (ton/m^2)</th>\n",
       "      <th>Sigma adm (ton/m^2)</th>\n",
       "    </tr>\n",
       "  </thead>\n",
       "  <tbody>\n",
       "    <tr>\n",
       "      <th>21</th>\n",
       "      <td>500</td>\n",
       "      <td>1000</td>\n",
       "      <td>500</td>\n",
       "      <td>8</td>\n",
       "      <td>32</td>\n",
       "      <td>984</td>\n",
       "      <td>0.039488</td>\n",
       "      <td>0.309981</td>\n",
       "      <td>14291.23416</td>\n",
       "      <td>15180</td>\n",
       "    </tr>\n",
       "  </tbody>\n",
       "</table>\n",
       "</div>"
      ],
      "text/plain": [
       "    Ancho viga (mm)  Altura viga (mm)  Ancho ala (mm)  Altura ala (mm)   \n",
       "21              500              1000             500                8  \\\n",
       "\n",
       "    Ancho alma (mm)  Altura alma (mm)  Área viga (m^2)  Wpp viga (ton/m)   \n",
       "21               32               984         0.039488          0.309981  \\\n",
       "\n",
       "    Sigma max (ton/m^2)  Sigma adm (ton/m^2)  \n",
       "21          14291.23416                15180  "
      ]
     },
     "execution_count": 2,
     "metadata": {},
     "output_type": "execute_result"
    }
   ],
   "source": [
    "sigma = df[df['Sigma max (ton/m^2)'] <= df['Sigma adm (ton/m^2)']]\n",
    "sigma.head(1)"
   ]
  },
  {
   "cell_type": "code",
   "execution_count": 5,
   "metadata": {},
   "outputs": [
    {
     "data": {
      "text/html": [
       "<div>\n",
       "<style scoped>\n",
       "    .dataframe tbody tr th:only-of-type {\n",
       "        vertical-align: middle;\n",
       "    }\n",
       "\n",
       "    .dataframe tbody tr th {\n",
       "        vertical-align: top;\n",
       "    }\n",
       "\n",
       "    .dataframe thead th {\n",
       "        text-align: right;\n",
       "    }\n",
       "</style>\n",
       "<table border=\"1\" class=\"dataframe\">\n",
       "  <thead>\n",
       "    <tr style=\"text-align: right;\">\n",
       "      <th></th>\n",
       "      <th>Ancho viga (mm)</th>\n",
       "      <th>Altura viga (mm)</th>\n",
       "      <th>Ancho ala (mm)</th>\n",
       "      <th>Altura ala (mm)</th>\n",
       "      <th>Ancho alma (mm)</th>\n",
       "      <th>Altura alma (mm)</th>\n",
       "      <th>Área viga (m^2)</th>\n",
       "      <th>Wpp viga (ton/m)</th>\n",
       "      <th>Sigma max (ton/m^2)</th>\n",
       "      <th>Sigma adm (ton/m^2)</th>\n",
       "    </tr>\n",
       "  </thead>\n",
       "  <tbody>\n",
       "    <tr>\n",
       "      <th>55</th>\n",
       "      <td>500</td>\n",
       "      <td>1000</td>\n",
       "      <td>500</td>\n",
       "      <td>16</td>\n",
       "      <td>6</td>\n",
       "      <td>968</td>\n",
       "      <td>0.021808</td>\n",
       "      <td>0.171193</td>\n",
       "      <td>14691.852394</td>\n",
       "      <td>15180</td>\n",
       "    </tr>\n",
       "  </tbody>\n",
       "</table>\n",
       "</div>"
      ],
      "text/plain": [
       "    Ancho viga (mm)  Altura viga (mm)  Ancho ala (mm)  Altura ala (mm)   \n",
       "55              500              1000             500               16  \\\n",
       "\n",
       "    Ancho alma (mm)  Altura alma (mm)  Área viga (m^2)  Wpp viga (ton/m)   \n",
       "55                6               968         0.021808          0.171193  \\\n",
       "\n",
       "    Sigma max (ton/m^2)  Sigma adm (ton/m^2)  \n",
       "55         14691.852394                15180  "
      ]
     },
     "execution_count": 5,
     "metadata": {},
     "output_type": "execute_result"
    }
   ],
   "source": [
    "sigma.loc[sigma['Wpp viga (ton/m)'] == sigma['Wpp viga (ton/m)'].min()]"
   ]
  },
  {
   "cell_type": "code",
   "execution_count": null,
   "metadata": {},
   "outputs": [],
   "source": []
  }
 ],
 "metadata": {
  "kernelspec": {
   "display_name": "base",
   "language": "python",
   "name": "python3"
  },
  "language_info": {
   "codemirror_mode": {
    "name": "ipython",
    "version": 3
   },
   "file_extension": ".py",
   "mimetype": "text/x-python",
   "name": "python",
   "nbconvert_exporter": "python",
   "pygments_lexer": "ipython3",
   "version": "3.10.11"
  },
  "orig_nbformat": 4
 },
 "nbformat": 4,
 "nbformat_minor": 2
}
